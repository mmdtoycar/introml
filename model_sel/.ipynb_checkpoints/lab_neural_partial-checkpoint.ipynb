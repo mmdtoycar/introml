{
 "cells": [
  {
   "cell_type": "markdown",
   "metadata": {},
   "source": [
    " # Lab:  Model Selection for Neural Data\n",
    "\n",
    "Machine learning is a key tool for neuroscientists to understand how sensory and motor signals are encoded in the brain. In addition to improving our scientific understanding of neural phenomena, understanding neural encoding is critical for brain machine interfaces. In this lab, you will use model selection for performing some simple analysis on real neural signals. \n",
    "\n",
    "Before doing this lab, you should review the ideas in the [polynomial model selection demo](./polyfit.ipynb).  In addition to the concepts in that demo, you will learn to:\n",
    "* Load MATLAB data\n",
    "* Formulate models of different complexities using heuristic model selection\n",
    "* Fit a linear model for the different model orders\n",
    "* Select the optimal model via cross-validation\n",
    "\n",
    "The last stage of the lab uses LASSO estimation for model selection.  If you are doing this part of the lab, you should review the concepts in [LASSO demonstration](./prostate.ipynb) on the prostate cancer  dataset.  "
   ]
  },
  {
   "cell_type": "markdown",
   "metadata": {},
   "source": [
    "## Loading the data\n",
    "\n",
    "The data in this lab comes from neural recordings described in:\n",
    "\n",
    "<a href=\"http://jn.physiology.org/content/106/2/764.short\">\n",
    "Stevenson, Ian H., et al. \"Statistical assessment of the stability of neural movement representations.\" Journal of neurophysiology 106.2 (2011): 764-774</a>\n",
    "\n",
    "Neurons are the basic information processing units in the brain.  Neurons communicate with one another via *spikes* or *action potentials* which are brief events where voltage in the neuron rapidly rises then falls.  These spikes trigger the electro-chemical signals between one neuron and another.  In this experiment, the spikes were recorded from 196 neurons in the primary motor cortex (M1) of a monkey using an electrode array implanted onto the surface of a monkey's brain.  During the recording, the monkey performed several reaching tasks and the position and velocity of the hand was recorded as well.  \n",
    "\n",
    "The goal of the experiment is to try to *read the monkey's brain*:  That is, predict the hand motion from the neural signals from the motor cortex.\n",
    "\n",
    "We first load the basic packages."
   ]
  },
  {
   "cell_type": "code",
   "execution_count": 114,
   "metadata": {
    "collapsed": true
   },
   "outputs": [],
   "source": [
    "import numpy as np\n",
    "import matplotlib\n",
    "import matplotlib.pyplot as plt\n",
    "%matplotlib inline"
   ]
  },
  {
   "cell_type": "markdown",
   "metadata": {},
   "source": [
    "The full data is available on the CRCNS website  http://crcns.org/data-sets/movements/dream.  This website has a large number of great datasets and can be used for projects as well.  To make this lab easier, I have pre-processed the data slightly and placed it in the file `StevensonV2.mat`, which is a MATLAB file.  You will need to have this file downloaded in the directory you are working on.\n",
    "\n",
    "Since MATLAB is widely-used, `python` provides method for loading MATLAB `mat` files.  We can use these commands to load the data as follows."
   ]
  },
  {
   "cell_type": "code",
   "execution_count": 115,
   "metadata": {
    "collapsed": true
   },
   "outputs": [],
   "source": [
    "import scipy.io\n",
    "mat_dict = scipy.io.loadmat('StevensonV2.mat')"
   ]
  },
  {
   "cell_type": "markdown",
   "metadata": {},
   "source": [
    "The returned structure, `mat_dict`, is a dictionary with each of the MATLAB variables that were saved in the `.mat` file.  Use the `.keys()` method to list all the variables."
   ]
  },
  {
   "cell_type": "code",
   "execution_count": 116,
   "metadata": {},
   "outputs": [
    {
     "data": {
      "text/plain": [
       "dict_keys(['__header__', '__version__', '__globals__', 'Publication', 'timeBase', 'spikes', 'time', 'handVel', 'handPos', 'target', 'startBins', 'targets', 'startBinned'])"
      ]
     },
     "execution_count": 116,
     "metadata": {},
     "output_type": "execute_result"
    }
   ],
   "source": [
    "#TODO\n",
    "mat_dict.keys()"
   ]
  },
  {
   "cell_type": "markdown",
   "metadata": {},
   "source": [
    "We extract two variables, `spikes` and `handVel`, from the dictionary `mat_dict`, which represent the recorded spikes per neuron and the hand velocity.  We take the transpose of the spikes data so that it is in the form time bins $\\times$ number of neurons.  For the `handVel` data, we take the first component which is the motion in the $x$-direction."
   ]
  },
  {
   "cell_type": "code",
   "execution_count": 117,
   "metadata": {},
   "outputs": [],
   "source": [
    "X0 = mat_dict['spikes'].T\n",
    "y0 = mat_dict['handVel'][0,:]"
   ]
  },
  {
   "cell_type": "markdown",
   "metadata": {},
   "source": [
    "The `spikes` matrix will be a `nt x nneuron` matrix where `nt` is the number of time bins and `nneuron` is the number of neurons.  Each entry `spikes[k,j]` is the number of spikes in time bin `k` from neuron `j`.  Use the `shape` method to find `nt` and `nneuron` and print the values."
   ]
  },
  {
   "cell_type": "code",
   "execution_count": 118,
   "metadata": {},
   "outputs": [
    {
     "name": "stdout",
     "output_type": "stream",
     "text": [
      "nt is 15536\n",
      "nneuron is 196\n"
     ]
    }
   ],
   "source": [
    "# TODO \n",
    "nt = X0.shape[0]\n",
    "print(\"nt is\", nt)\n",
    "nneuron = X0.shape[1]\n",
    "print(\"nneuron is\", nneuron) "
   ]
  },
  {
   "cell_type": "markdown",
   "metadata": {},
   "source": [
    "Now extract the `time` variable from the `mat_dict` dictionary.  Reshape this to a 1D array with `nt` components.  Each entry `time[k]` is the starting time of the time bin `k`.  Find the sampling time `tsamp` which is the time between measurements, and `ttotal` which is the total duration of the recording."
   ]
  },
  {
   "cell_type": "code",
   "execution_count": 119,
   "metadata": {},
   "outputs": [
    {
     "name": "stdout",
     "output_type": "stream",
     "text": [
      "ttotal = 776.75\n",
      "tsamp = 0.05\n"
     ]
    }
   ],
   "source": [
    "# TODO\n",
    "time = np.reshape(mat_dict['time'], X0.shape[0])\n",
    "ttotal = time[-1] - time[0]\n",
    "tsamp = ttotal / (X0.shape[0]-1)\n",
    "print(\"ttotal =\", ttotal)\n",
    "print(\"tsamp =\", tsamp)"
   ]
  },
  {
   "cell_type": "markdown",
   "metadata": {},
   "source": [
    "## Linear fitting on all the neurons\n",
    "\n",
    "First divide the data into training and test with approximately half the samples in each.  Let `Xtr` and `ytr` denote the training data and `Xts` and `yts` denote the test data."
   ]
  },
  {
   "cell_type": "code",
   "execution_count": 120,
   "metadata": {
    "collapsed": true
   },
   "outputs": [],
   "source": [
    "# TODO\n",
    "Xtr = X0[:int(X0.shape[0]/2)]\n",
    "ytr = y0[:int(len(y0)/2)]\n",
    "Xts = X0[int(X0.shape[0]/2):]\n",
    "yts = y0[int(len(y0)/2):]"
   ]
  },
  {
   "cell_type": "markdown",
   "metadata": {},
   "source": [
    "Now, we begin by trying to fit a simple linear model using *all* the neurons as predictors.  To this end, use the `sklearn.linear_model` package to create a regression object, and fit the linear model to the training data."
   ]
  },
  {
   "cell_type": "code",
   "execution_count": 121,
   "metadata": {},
   "outputs": [
    {
     "data": {
      "text/plain": [
       "LinearRegression(copy_X=True, fit_intercept=True, n_jobs=1, normalize=False)"
      ]
     },
     "execution_count": 121,
     "metadata": {},
     "output_type": "execute_result"
    }
   ],
   "source": [
    "import sklearn.linear_model\n",
    "\n",
    "# TODO\n",
    "regr = sklearn.linear_model.LinearRegression()\n",
    "regr.fit(Xtr,ytr)"
   ]
  },
  {
   "cell_type": "markdown",
   "metadata": {},
   "source": [
    "Measure and print the normalized RSS on the test data.  "
   ]
  },
  {
   "cell_type": "code",
   "execution_count": 122,
   "metadata": {},
   "outputs": [
    {
     "name": "stdout",
     "output_type": "stream",
     "text": [
      "Normalized RSS=1889379842913849311232.000000\n"
     ]
    }
   ],
   "source": [
    "# TODO\n",
    "yts_pre = regr.predict(Xts)\n",
    "rss = np.mean((yts_pre-yts)**2)/(np.std(yts)**2)\n",
    "print(\"Normalized RSS={0:f}\".format(rss))"
   ]
  },
  {
   "cell_type": "markdown",
   "metadata": {},
   "source": [
    "You should see that the test error is enormous -- the model does not generalize to the test data at all. "
   ]
  },
  {
   "cell_type": "markdown",
   "metadata": {},
   "source": [
    "## Linear Fitting  with Heuristic Model Selection\n",
    "\n",
    "The above shows that we need a way to reduce the model complexity.  One simple idea is to select only the neurons that individually have a high correlation with the output.   \n",
    "\n",
    "Write code which computes the coefficient of determination, $R^2_k$, for each neuron $k$.  Plot the $R^2_k$ values.  \n",
    "\n",
    "You can use a for loop over each neuron, but if you want to make efficient code try to avoid the for loop and use [python broadcasting](../Basics/numpy_axes_broadcasting.ipynb)."
   ]
  },
  {
   "cell_type": "code",
   "execution_count": 124,
   "metadata": {},
   "outputs": [
    {
     "data": {
      "image/png": "[encoded data removed]",
      "text/plain": [
       "<matplotlib.figure.Figure at 0x1151bf438>"
      ]
     },
     "metadata": {},
     "output_type": "display_data"
    }
   ],
   "source": [
    "# TODO\n",
    "ybar = np.mean(y0)\n",
    "syy = np.mean((y0-ybar)**2)\n",
    "Rsq = np.zeros(nneuron)\n",
    "for i in range(nneuron):\n",
    "    xbar = np.mean(X0[:,i])\n",
    "    sxx = np.mean((X0[:,i]-xbar)**2)\n",
    "    sxy = np.mean((X0[:,i]-xbar)*(y0-ybar))\n",
    "    if sxx==0: Rsq[i] = 0\n",
    "    else: Rsq[i] = sxy**2/sxx/syy\n",
    "plt.stem(Rsq)\n",
    "plt.grid()"
   ]
  },
  {
   "cell_type": "markdown",
   "metadata": {},
   "source": [
    "We see that many neurons have low correlation and can probably be discarded from the model.    \n",
    "\n",
    "Use the `np.argsort()` command to find the indices of the `d=100` neurons with the highest $R^2_k$ value.  Put the `d` indices into an array `Isel`.  Print the indices of the neurons with the 10 highest correlations."
   ]
  },
  {
   "cell_type": "code",
   "execution_count": 125,
   "metadata": {},
   "outputs": [
    {
     "name": "stdout",
     "output_type": "stream",
     "text": [
      "The neurons with the ten highest R^2 values =  [193  98 195 120  67 136 153 152  58 192]\n"
     ]
    }
   ],
   "source": [
    "d = 100  # Number of neurons to use\n",
    "\n",
    "# TODO\n",
    "sort = np.argsort(Rsq)\n",
    "Isel = sort[-d:]\n",
    "print(\"The neurons with the ten highest R^2 values = \", (np.argsort(Rsq)[-10:]))"
   ]
  },
  {
   "cell_type": "markdown",
   "metadata": {},
   "source": [
    "Fit a model using only the `d` neurons selected in the previous step and print both the test RSS per sample and the normalized test RSS."
   ]
  },
  {
   "cell_type": "code",
   "execution_count": 140,
   "metadata": {},
   "outputs": [
    {
     "name": "stdout",
     "output_type": "stream",
     "text": [
      "RSS per sample= [ 1.68226111  3.78016218  2.47242883 ...,  1.03082639  0.10073383\n",
      "  0.19761774]\n",
      "Normalized RSS=0.503898\n"
     ]
    }
   ],
   "source": [
    "# TODO\n",
    "regr.fit(Xtr[:,Isel],ytr)\n",
    "yts_pre = regr.predict(Xts[:,Isel])\n",
    "RSS_norm = np.mean((yts_pre-yts)**2/(np.std(yts)**2))\n",
    "RSS_per = (yts_pre-yts)**2/(np.std(yts)**2)\n",
    "print(\"RSS per sample=\", RSS_per)\n",
    "print(\"Normalized RSS={0:f}\".format(RSS_norm))"
   ]
  },
  {
   "cell_type": "markdown",
   "metadata": {},
   "source": [
    "Create a scatter plot of the predicted vs. actual hand motion on the test data.  On the same plot, plot the line where `yts_hat = yts`."
   ]
  },
  {
   "cell_type": "code",
   "execution_count": 130,
   "metadata": {},
   "outputs": [
    {
     "data": {
      "image/png": "[encoded data removed]",
      "text/plain": [
       "<matplotlib.figure.Figure at 0x1151bfeb8>"
      ]
     },
     "metadata": {},
     "output_type": "display_data"
    }
   ],
   "source": [
    "# TODO\n",
    "plt.scatter(yts_pre,yts)\n",
    "plt.grid()"
   ]
  },
  {
   "cell_type": "markdown",
   "metadata": {},
   "source": [
    "## Using K-fold cross validation for the optimal number of neurons\n",
    "\n",
    "In the above, we fixed `d=100`.  We can use cross validation to try to determine the best number of neurons to use.  Try model orders with `d=10,20,...,190`.  For each value of `d`, use K-fold validation with 10 folds to estimate the test RSS.  For a data set this size, each fold will take a few seconds to compute, so it may be useful to print the progress."
   ]
  },
  {
   "cell_type": "code",
   "execution_count": 147,
   "metadata": {},
   "outputs": [
    {
     "name": "stdout",
     "output_type": "stream",
     "text": [
      "0.00207986635031\n",
      "0.00188548593154\n",
      "0.00186945647895\n",
      "0.00179219764827\n",
      "0.00172160426109\n",
      "0.00166891782137\n",
      "0.0016624803622\n",
      "0.00164370499344\n",
      "0.0016327855568\n",
      "0.00160350858265\n",
      "0.0015947358153\n",
      "0.0015954938042\n",
      "0.00158942436203\n",
      "0.00157902962176\n",
      "0.00158001916702\n",
      "0.00157929548008\n",
      "0.00158645551654\n",
      "0.00158950507055\n",
      "0.00158323369843\n",
      "0.00184710348935\n",
      "0.00174716860902\n",
      "0.00173806531538\n",
      "0.00167115409115\n",
      "0.00163642548436\n",
      "0.00158740897385\n",
      "0.00156733326092\n",
      "0.00154915209617\n",
      "0.00153238747997\n",
      "0.0015107366935\n",
      "0.00150203278789\n",
      "0.00149819024121\n",
      "0.001494200985\n",
      "0.00149051662442\n",
      "0.00149068022011\n",
      "0.00149473405748\n",
      "0.00149375131475\n",
      "0.00150016840369\n",
      "0.00150112893039\n",
      "0.00180358760957\n",
      "0.00171079303203\n",
      "0.001704912792\n",
      "0.00162538015392\n",
      "0.0015743885556\n",
      "0.00154725248551\n",
      "0.00151816754497\n",
      "0.00151002025596\n",
      "0.00150029999009\n",
      "0.00148458605729\n",
      "0.0014865507933\n",
      "0.00148774957232\n",
      "0.00148749840896\n",
      "0.00148112862143\n",
      "0.0014814245462\n",
      "0.00148295964999\n",
      "0.00148595265832\n",
      "0.00148634657883\n",
      "0.00148353996723\n",
      "0.00194812474353\n",
      "0.00176741871714\n",
      "0.00175726025575\n",
      "0.00167850850048\n",
      "0.00162401333351\n",
      "0.00156243324444\n",
      "0.00153895219104\n",
      "0.00152668061489\n",
      "0.00152391199719\n",
      "0.0014985912006\n",
      "0.0014925598307\n",
      "0.00149282317822\n",
      "0.00148536339333\n",
      "0.00148747278791\n",
      "0.00148824336338\n",
      "0.00149034295061\n",
      "0.00148803187738\n",
      "0.00148936768831\n",
      "0.00148549513701\n",
      "0.00187503305789\n",
      "0.00174869360234\n",
      "0.00172866841691\n",
      "0.00167215270406\n",
      "0.00162980788533\n",
      "0.00159540353431\n",
      "0.001585823208\n",
      "0.00155776332939\n",
      "0.00153263816272\n",
      "0.00150416105451\n",
      "0.00149438131094\n",
      "0.00149234692827\n",
      "0.00148548004109\n",
      "0.00148443974767\n",
      "0.00148678709367\n",
      "0.00148274927396\n",
      "0.00148691500903\n",
      "0.00148508316588\n",
      "0.00149326939985\n",
      "0.00193768774166\n",
      "0.00177706740569\n",
      "0.00175067008811\n",
      "0.00168210405048\n",
      "0.00163302037426\n",
      "0.00154940374788\n",
      "0.00153263584765\n",
      "0.001504545077\n",
      "0.001483205202\n",
      "0.00147077310987\n",
      "0.00146446734312\n",
      "0.00146323625617\n",
      "0.00146020959396\n",
      "0.00145576271742\n",
      "0.00145993068194\n",
      "0.0014581612129\n",
      "0.0014582119467\n",
      "0.00145910041274\n",
      "0.00145160841511\n",
      "0.00166252853176\n",
      "0.00156496493245\n",
      "0.00155820186555\n",
      "0.00151472659326\n",
      "0.00149468006347\n",
      "0.00146122787549\n",
      "0.00145228333167\n",
      "0.00144025030296\n",
      "0.00143226169174\n",
      "0.00141086403315\n",
      "0.00140791785121\n",
      "0.00140489946936\n",
      "0.00140016907965\n",
      "0.00140760301791\n",
      "0.00140977127831\n",
      "0.00140730182766\n",
      "0.00140802905763\n",
      "0.00140794222388\n",
      "0.00140593826901\n",
      "0.00183588631174\n",
      "0.0017337458503\n",
      "0.00170473820717\n",
      "0.00162920582978\n",
      "0.00161508635344\n",
      "0.00156577136509\n",
      "0.00154757131959\n",
      "0.00153156255503\n",
      "0.00152489707891\n",
      "0.00148879020854\n",
      "0.0014787014483\n",
      "0.0014786224344\n",
      "0.00146948738139\n",
      "0.00147445076055\n",
      "0.00147700650696\n",
      "0.00147464170551\n",
      "0.00147583817875\n",
      "0.00147329929404\n",
      "0.00146910773637\n",
      "0.00205886333969\n",
      "0.00194347078031\n",
      "0.00192265879021\n",
      "0.00184430756093\n",
      "0.00183616118298\n",
      "0.00177267030167\n",
      "0.00175787558381\n",
      "0.00174460809205\n",
      "0.00172344118778\n",
      "0.00169905966569\n",
      "0.00169198420438\n",
      "0.00169601383471\n",
      "0.00168346579831\n",
      "0.00166828304587\n",
      "0.00166936151444\n",
      "0.00166938849484\n",
      "0.00166689163014\n",
      "0.00166554565047\n",
      "0.00166957368713\n",
      "0.0016236623061\n",
      "0.00149187337255\n",
      "0.00148126835718\n",
      "0.0014389727596\n",
      "0.00139137648891\n",
      "0.00135515224497\n",
      "0.00135809503953\n",
      "0.00135304908282\n",
      "0.00134683238536\n",
      "0.00134668002558\n",
      "0.00134491647414\n",
      "0.00134423869007\n",
      "0.00134274246585\n",
      "0.00134526608076\n",
      "0.00134952404075\n",
      "0.00134594837717\n",
      "0.00134800160775\n",
      "0.00134911838777\n",
      "0.0013503307147\n"
     ]
    }
   ],
   "source": [
    "import  sklearn.model_selection \n",
    "\n",
    "# Create a k-fold object\n",
    "nfold = 10\n",
    "kf = sklearn.model_selection.KFold(n_splits=nfold,shuffle=True)\n",
    "\n",
    "# Model orders to be tested\n",
    "dtest = np.arange(10,200,10)\n",
    "nd = len(dtest)\n",
    "\n",
    "# TODO.  \n",
    "RSSts = np.zeros((nd,nfold))\n",
    "for isplit, Ind in enumerate(kf.split(X0)):\n",
    "    Itr, Its = Ind\n",
    "    Xtrk = X0[Itr]\n",
    "    ytrk = y0[Itr]\n",
    "    Xtsk = X0[Its]\n",
    "    ytsk = y0[Its]\n",
    "    \n",
    "    for it, d in enumerate(dtest):\n",
    "        iIsel = np.argsort(-Rsq)[:d]\n",
    "        Xtrkd = np.array(Xtrk[:, 0])\n",
    "        Xtskd = np.array(Xtsk[:, 0])\n",
    "        for k in enumerate(iIsel):\n",
    "            Xtrkd = np.column_stack((Xtrkd, Xtrk[:,k[1]]))\n",
    "            Xtskd = np.column_stack((Xtskd, Xtsk[:,k[1]]))\n",
    "        \n",
    "        Xtrkd = Xtrkd[:, 1:]\n",
    "        Xtskd = Xtskd[:, 1:]\n",
    "    \n",
    "        regr = sklearn.linear_model.LinearRegression()\n",
    "        regr.fit(Xtrkd, ytrk)\n",
    "        ytsk_hat = regr.predict(Xtskd)\n",
    "        RSSts[it, isplit] = np.mean((ytsk_hat - ytsk)**2)\n",
    "        print(RSSts[it,isplit])"
   ]
  },
  {
   "cell_type": "markdown",
   "metadata": {},
   "source": [
    "Compute the RSS test mean and standard error and plot them as a function of the model order `d` using the `plt.errorbar()` method. "
   ]
  },
  {
   "cell_type": "code",
   "execution_count": 150,
   "metadata": {},
   "outputs": [
    {
     "data": {
      "image/png": "[encoded data removed]",
      "text/plain": [
       "<matplotlib.figure.Figure at 0x115c86860>"
      ]
     },
     "metadata": {},
     "output_type": "display_data"
    }
   ],
   "source": [
    "# TODO\n",
    "RSS_mean = np.mean(RSSts,axis=1)\n",
    "RSS_std = np.std(RSSts,axis=1)/np.sqrt(nfold-1)\n",
    "plt.errorbar(dtest, RSS_mean, yerr=RSS_std, fmt='-')\n",
    "plt.ylim(0.0014,0.0020)\n",
    "plt.xlabel('Model order')\n",
    "plt.ylabel('Test RSS')\n",
    "plt.grid()"
   ]
  },
  {
   "cell_type": "markdown",
   "metadata": {},
   "source": [
    "Find the optimal order using the one standard error rule. Print the optimal value of `d` and the mean test RSS per sample at the optimal `d`.  "
   ]
  },
  {
   "cell_type": "code",
   "execution_count": 159,
   "metadata": {},
   "outputs": [
    {
     "name": "stdout",
     "output_type": "stream",
     "text": [
      "The estimated model order is 100\n",
      "The mean test RSS per sample at the optimal d is 0.00150177506314\n"
     ]
    }
   ],
   "source": [
    "# TODO\n",
    "imin = np.argmin(RSS_mean)\n",
    "RSS_tgt = RSS_mean[imin] + RSS_std[imin]\n",
    "I = np.where(RSS_mean <= RSS_tgt)[0]\n",
    "iopt = I[0]\n",
    "dopt = dtest[iopt]\n",
    "print(\"The estimated model order is %d\" %dopt)\n",
    "print(\"The mean test RSS per sample at the optimal d is\", RSS_mean[iopt])"
   ]
  },
  {
   "cell_type": "markdown",
   "metadata": {},
   "source": [
    "## Using LASSO regression\n",
    "\n",
    "Instead of using the above heuristic to select the variables, we can use LASSO regression.  \n",
    "\n",
    "First use the `preprocessing.scale` method to standardize the data matrix `X0`.  Store the standardized values in `Xs`.  You do not need to standardize the response.  For this data, the `scale` routine may throw a warning that you are converting data types.  That is fine."
   ]
  },
  {
   "cell_type": "code",
   "execution_count": 155,
   "metadata": {},
   "outputs": [
    {
     "name": "stderr",
     "output_type": "stream",
     "text": [
      "/Applications/anaconda/lib/python3.6/site-packages/sklearn/utils/validation.py:429: DataConversionWarning: Data with input dtype uint8 was converted to float64 by the scale function.\n",
      "  warnings.warn(msg, _DataConversionWarning)\n"
     ]
    }
   ],
   "source": [
    "from sklearn import preprocessing\n",
    "\n",
    "# TODO\n",
    "Xs = preprocessing.scale(X0)"
   ]
  },
  {
   "cell_type": "markdown",
   "metadata": {},
   "source": [
    "Now, use the LASSO method to fit a model.  Use cross validation to select the regularization level `alpha`.  Use `alpha` values logarithmically spaced from `1e-5` to `0.1`, and use 10 fold cross validation.  "
   ]
  },
  {
   "cell_type": "code",
   "execution_count": 156,
   "metadata": {},
   "outputs": [],
   "source": [
    "# TODO\n",
    "model = sklearn.linear_model.Lasso(warm_start=True)\n",
    "\n",
    "nalpha = 10\n",
    "alphas = np.logspace(-5,-1,nalpha)\n",
    "\n",
    "mse = np.zeros((nalpha,nfold))\n",
    "for ifold, ind in enumerate(kf.split(Xs)):\n",
    "    \n",
    "    Itr, Its = ind\n",
    "    X_tr = Xs[Itr,:]\n",
    "    y_tr = y0[Itr]\n",
    "    X_ts = Xs[Its,:]\n",
    "    y_ts = y0[Its]\n",
    "    \n",
    "    for ia, a in enumerate(alphas):\n",
    "        \n",
    "        model.alpha = a\n",
    "        model.fit(X_tr,y_tr)\n",
    "        \n",
    "        y_ts_pred = model.predict(X_ts)\n",
    "        mse[ia,ifold] = np.mean((y_ts_pred-y_ts)**2)"
   ]
  },
  {
   "cell_type": "markdown",
   "metadata": {},
   "source": [
    "Plot the mean test RSS and test RSS standard error with the `plt.errorbar` plot."
   ]
  },
  {
   "cell_type": "code",
   "execution_count": 157,
   "metadata": {},
   "outputs": [
    {
     "data": {
      "image/png": "[encoded data removed]",
      "text/plain": [
       "<matplotlib.figure.Figure at 0x10bbaf160>"
      ]
     },
     "metadata": {},
     "output_type": "display_data"
    }
   ],
   "source": [
    "# TODO\n",
    "mse_mean = np.mean(mse,axis=1)\n",
    "mse_std = np.std(mse,axis=1)/np.sqrt(nfold-1)\n",
    "plt.errorbar(alphas,mse_mean,yerr=mse_std,fmt='-')\n",
    "plt.grid()"
   ]
  },
  {
   "cell_type": "markdown",
   "metadata": {},
   "source": [
    "Find the optimal `alpha` and mean test RSS using the one standard error rule."
   ]
  },
  {
   "cell_type": "code",
   "execution_count": 158,
   "metadata": {},
   "outputs": [
    {
     "name": "stdout",
     "output_type": "stream",
     "text": [
      "Optimal alpha = 0.000599\n"
     ]
    }
   ],
   "source": [
    "# TODO\n",
    "imin = np.argmin(mse_mean)\n",
    "mse_tgt = mse_mean[imin] + mse_std[imin]\n",
    "alpha_min = alphas[imin]\n",
    "\n",
    "I = np.where(mse_mean < mse_tgt)[0]\n",
    "iopt = I[-1]\n",
    "alpha_opt = alphas[iopt]\n",
    "print(\"Optimal alpha = %f\" % alpha_opt)"
   ]
  },
  {
   "cell_type": "markdown",
   "metadata": {},
   "source": [
    "Using the optimal alpha, recompute the predicted response variable on the whole data.  Plot the predicted vs. actual values."
   ]
  },
  {
   "cell_type": "code",
   "execution_count": 154,
   "metadata": {},
   "outputs": [
    {
     "data": {
      "image/png": "[encoded data removed]",
      "text/plain": [
       "<matplotlib.figure.Figure at 0x115c86748>"
      ]
     },
     "metadata": {},
     "output_type": "display_data"
    }
   ],
   "source": [
    "# TODO\n",
    "model.alpha = alpha_opt\n",
    "model.fit(Xs,y0)\n",
    "yts_opt_pre = model.predict(X0)\n",
    "plt.scatter(yts_opt_pre,y0)\n",
    "plt.grid()"
   ]
  },
  {
   "cell_type": "markdown",
   "metadata": {},
   "source": [
    "## More Fun\n",
    "\n",
    "You can play around with this and many other neural data sets.  Two things that one can do to further improve the quality of fit are:\n",
    "* Use more time lags in the data.  Instead of predicting the hand motion from the spikes in the previous time, use the spikes in the last few delays.\n",
    "* Add a nonlinearity.  You should see that the predicted hand motion differs from the actual for high values of the actual.  You can improve the fit by adding a nonlinearity on the output.  A polynomial fit would work well here.\n",
    "\n",
    "You do not need to do these, but you can try them if you like."
   ]
  },
  {
   "cell_type": "code",
   "execution_count": null,
   "metadata": {
    "collapsed": true
   },
   "outputs": [],
   "source": []
  }
 ],
 "metadata": {
  "anaconda-cloud": {},
  "kernelspec": {
   "display_name": "Python 3",
   "language": "python",
   "name": "python3"
  },
  "language_info": {
   "codemirror_mode": {
    "name": "ipython",
    "version": 3
   },
   "file_extension": ".py",
   "mimetype": "text/x-python",
   "name": "python",
   "nbconvert_exporter": "python",
   "pygments_lexer": "ipython3",
   "version": "3.6.1"
  }
 },
 "nbformat": 4,
 "nbformat_minor": 1
}
