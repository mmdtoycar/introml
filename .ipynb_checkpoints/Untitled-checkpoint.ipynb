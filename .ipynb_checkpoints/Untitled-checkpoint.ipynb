{
 "cells": [
  {
   "cell_type": "code",
   "execution_count": 6,
   "metadata": {},
   "outputs": [
    {
     "data": {
      "image/png": "[encoded data removed]",
      "text/plain": [
       "<matplotlib.figure.Figure at 0x10dea88d0>"
      ]
     },
     "metadata": {},
     "output_type": "display_data"
    }
   ],
   "source": [
    "import matplotlib.pyplot as plt\n",
    "import numpy as np\n",
    "\n",
    "x = np.array([[30,0],[50,1],[70,1],[80,2],[100,1]])\n",
    "y = np.array([0,1,0,1,1])\n",
    "don = np.where(y==1)[0]\n",
    "non = np.where(y==0)[0]\n",
    "\n",
    "plt.plot(x[don,0], x[don,1],'r.')\n",
    "plt.plot(x[non,0], x[non,1],'g.')\n",
    "plt.xlabel('Income (thousands $)')\n",
    "plt.ylabel('Num websites')\n",
    "plt.legend(['donate', 'not donate'], loc='lower right')\n",
    "plt.show()"
   ]
  },
  {
   "cell_type": "code",
   "execution_count": 8,
   "metadata": {},
   "outputs": [
    {
     "name": "stdout",
     "output_type": "stream",
     "text": [
      "22026.4657948\n"
     ]
    }
   ],
   "source": [
    "import numpy as np\n",
    "\n",
    "def gen_rand(X,w,b):\n",
    "    y=[]\n",
    "    z=X*w\n",
    "    p=1/(1+np.exp(-(np.sum(z,axis=1)+b)))\n",
    "    for i in range(len(X)):\n",
    "        if random.random()<p[i]:\n",
    "            y.append(1)\n",
    "        else:\n",
    "            y.append(0)\n",
    "    return y"
   ]
  },
  {
   "cell_type": "code",
   "execution_count": null,
   "metadata": {
    "collapsed": true
   },
   "outputs": [],
   "source": []
  }
 ],
 "metadata": {
  "kernelspec": {
   "display_name": "Python 3",
   "language": "python",
   "name": "python3"
  },
  "language_info": {
   "codemirror_mode": {
    "name": "ipython",
    "version": 3
   },
   "file_extension": ".py",
   "mimetype": "text/x-python",
   "name": "python",
   "nbconvert_exporter": "python",
   "pygments_lexer": "ipython3",
   "version": "3.6.1"
  }
 },
 "nbformat": 4,
 "nbformat_minor": 2
}
