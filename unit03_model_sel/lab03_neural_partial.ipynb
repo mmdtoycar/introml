{
 "cells": [
  {
   "cell_type": "markdown",
   "metadata": {},
   "source": [
    " # Lab:  Model Selection for Neural Data\n",
    "\n",
    "Machine learning is a key tool for neuroscientists to understand how sensory and motor signals are encoded in the brain. In addition to improving our scientific understanding of neural phenomena, understanding neural encoding is critical for brain machine interfaces. In this lab, you will use model selection for performing some simple analysis on real neural signals. \n",
    "\n",
    "Before doing this lab, you should review the ideas in the [polynomial model selection demo](./polyfit.ipynb).  In addition to the concepts in that demo, you will learn to:\n",
    "* Load MATLAB data\n",
    "* Formulate models of different complexities using heuristic model selection\n",
    "* Fit a linear model for the different model orders\n",
    "* Select the optimal model via cross-validation\n",
    "\n",
    "The last stage of the lab uses LASSO estimation for model selection.  If you are doing this part of the lab, you should review the concepts in [LASSO demonstration](./prostate.ipynb) on the prostate cancer  dataset.  "
   ]
  },
  {
   "cell_type": "markdown",
   "metadata": {},
   "source": [
    "## Loading the data\n",
    "\n",
    "The data in this lab comes from neural recordings described in:\n",
    "\n",
    "<a href=\"http://jn.physiology.org/content/106/2/764.short\">\n",
    "Stevenson, Ian H., et al. \"Statistical assessment of the stability of neural movement representations.\" Journal of neurophysiology 106.2 (2011): 764-774</a>\n",
    "\n",
    "Neurons are the basic information processing units in the brain.  Neurons communicate with one another via *spikes* or *action potentials* which are brief events where voltage in the neuron rapidly rises then falls.  These spikes trigger the electro-chemical signals between one neuron and another.  In this experiment, the spikes were recorded from 196 neurons in the primary motor cortex (M1) of a monkey using an electrode array implanted onto the surface of a monkey's brain.  During the recording, the monkey performed several reaching tasks and the position and velocity of the hand was recorded as well.  \n",
    "\n",
    "The goal of the experiment is to try to *read the monkey's brain*:  That is, predict the hand motion from the neural signals from the motor cortex.\n",
    "\n",
    "We first load the basic packages."
   ]
  },
  {
   "cell_type": "code",
   "execution_count": 162,
   "metadata": {
    "collapsed": true
   },
   "outputs": [],
   "source": [
    "import numpy as np\n",
    "import matplotlib\n",
    "import matplotlib.pyplot as plt\n",
    "%matplotlib inline"
   ]
  },
  {
   "cell_type": "markdown",
   "metadata": {},
   "source": [
    "The full data is available on the CRCNS website  http://crcns.org/data-sets/movements/dream.  This website has a large number of great datasets and can be used for projects as well.  To make this lab easier, I have pre-processed the data slightly and placed it in the file `StevensonV2.mat`, which is a MATLAB file.  You will need to have this file downloaded in the directory you are working on.\n",
    "\n",
    "Since MATLAB is widely-used, `python` provides method for loading MATLAB `mat` files.  We can use these commands to load the data as follows."
   ]
  },
  {
   "cell_type": "code",
   "execution_count": 163,
   "metadata": {
    "collapsed": true
   },
   "outputs": [],
   "source": [
    "import scipy.io\n",
    "mat_dict = scipy.io.loadmat('StevensonV2.mat')"
   ]
  },
  {
   "cell_type": "markdown",
   "metadata": {},
   "source": [
    "The returned structure, `mat_dict`, is a dictionary with each of the MATLAB variables that were saved in the `.mat` file.  Use the `.keys()` method to list all the variables."
   ]
  },
  {
   "cell_type": "code",
   "execution_count": 164,
   "metadata": {},
   "outputs": [
    {
     "data": {
      "text/plain": [
       "dict_keys(['__header__', '__version__', '__globals__', 'Publication', 'timeBase', 'spikes', 'time', 'handVel', 'handPos', 'target', 'startBins', 'targets', 'startBinned'])"
      ]
     },
     "execution_count": 164,
     "metadata": {},
     "output_type": "execute_result"
    }
   ],
   "source": [
    "#TODO\n",
    "mat_dict.keys()"
   ]
  },
  {
   "cell_type": "markdown",
   "metadata": {},
   "source": [
    "We extract two variables, `spikes` and `handVel`, from the dictionary `mat_dict`, which represent the recorded spikes per neuron and the hand velocity.  We take the transpose of the spikes data so that it is in the form time bins $\\times$ number of neurons.  For the `handVel` data, we take the first component which is the motion in the $x$-direction."
   ]
  },
  {
   "cell_type": "code",
   "execution_count": 165,
   "metadata": {},
   "outputs": [],
   "source": [
    "X0 = mat_dict['spikes'].T\n",
    "y0 = mat_dict['handVel'][0,:]"
   ]
  },
  {
   "cell_type": "markdown",
   "metadata": {},
   "source": [
    "The `spikes` matrix will be a `nt x nneuron` matrix where `nt` is the number of time bins and `nneuron` is the number of neurons.  Each entry `spikes[k,j]` is the number of spikes in time bin `k` from neuron `j`.  Use the `shape` method to find `nt` and `nneuron` and print the values."
   ]
  },
  {
   "cell_type": "code",
   "execution_count": 166,
   "metadata": {},
   "outputs": [
    {
     "name": "stdout",
     "output_type": "stream",
     "text": [
      "nt is 15536\n",
      "nneuron is 196\n"
     ]
    }
   ],
   "source": [
    "# TODO \n",
    "nt = X0.shape[0]\n",
    "print(\"nt is\", nt)\n",
    "nneuron = X0.shape[1]\n",
    "print(\"nneuron is\", nneuron) "
   ]
  },
  {
   "cell_type": "markdown",
   "metadata": {},
   "source": [
    "Now extract the `time` variable from the `mat_dict` dictionary.  Reshape this to a 1D array with `nt` components.  Each entry `time[k]` is the starting time of the time bin `k`.  Find the sampling time `tsamp` which is the time between measurements, and `ttotal` which is the total duration of the recording."
   ]
  },
  {
   "cell_type": "code",
   "execution_count": 167,
   "metadata": {},
   "outputs": [
    {
     "name": "stdout",
     "output_type": "stream",
     "text": [
      "ttotal = 776.75\n",
      "tsamp = 0.05\n"
     ]
    }
   ],
   "source": [
    "# TODO\n",
    "time = np.reshape(mat_dict['time'], X0.shape[0])\n",
    "ttotal = time[-1] - time[0]\n",
    "tsamp = ttotal / (X0.shape[0]-1)\n",
    "print(\"ttotal =\", ttotal)\n",
    "print(\"tsamp =\", tsamp)"
   ]
  },
  {
   "cell_type": "markdown",
   "metadata": {},
   "source": [
    "## Linear fitting on all the neurons\n",
    "\n",
    "First divide the data into training and test with approximately half the samples in each.  Let `Xtr` and `ytr` denote the training data and `Xts` and `yts` denote the test data."
   ]
  },
  {
   "cell_type": "code",
   "execution_count": 168,
   "metadata": {
    "collapsed": true
   },
   "outputs": [],
   "source": [
    "# TODO\n",
    "Xtr = X0[:int(X0.shape[0]/2)]\n",
    "ytr = y0[:int(len(y0)/2)]\n",
    "Xts = X0[int(X0.shape[0]/2):]\n",
    "yts = y0[int(len(y0)/2):]"
   ]
  },
  {
   "cell_type": "markdown",
   "metadata": {},
   "source": [
    "Now, we begin by trying to fit a simple linear model using *all* the neurons as predictors.  To this end, use the `sklearn.linear_model` package to create a regression object, and fit the linear model to the training data."
   ]
  },
  {
   "cell_type": "code",
   "execution_count": 169,
   "metadata": {},
   "outputs": [
    {
     "data": {
      "text/plain": [
       "LinearRegression(copy_X=True, fit_intercept=True, n_jobs=1, normalize=False)"
      ]
     },
     "execution_count": 169,
     "metadata": {},
     "output_type": "execute_result"
    }
   ],
   "source": [
    "import sklearn.linear_model\n",
    "\n",
    "# TODO\n",
    "regr = sklearn.linear_model.LinearRegression()\n",
    "regr.fit(Xtr,ytr)"
   ]
  },
  {
   "cell_type": "markdown",
   "metadata": {},
   "source": [
    "Measure and print the normalized RSS on the test data.  "
   ]
  },
  {
   "cell_type": "code",
   "execution_count": 170,
   "metadata": {},
   "outputs": [
    {
     "name": "stdout",
     "output_type": "stream",
     "text": [
      "Normalized RSS=1889379842913849311232.000000\n"
     ]
    }
   ],
   "source": [
    "# TODO\n",
    "yts_pre = regr.predict(Xts)\n",
    "rss = np.mean((yts_pre-yts)**2)/(np.std(yts)**2)\n",
    "print(\"Normalized RSS={0:f}\".format(rss))"
   ]
  },
  {
   "cell_type": "markdown",
   "metadata": {},
   "source": [
    "You should see that the test error is enormous -- the model does not generalize to the test data at all. "
   ]
  },
  {
   "cell_type": "markdown",
   "metadata": {},
   "source": [
    "## Linear Fitting  with Heuristic Model Selection\n",
    "\n",
    "The above shows that we need a way to reduce the model complexity.  One simple idea is to select only the neurons that individually have a high correlation with the output.   \n",
    "\n",
    "Write code which computes the coefficient of determination, $R^2_k$, for each neuron $k$.  Plot the $R^2_k$ values.  \n",
    "\n",
    "You can use a for loop over each neuron, but if you want to make efficient code try to avoid the for loop and use [python broadcasting](../Basics/numpy_axes_broadcasting.ipynb)."
   ]
  },
  {
   "cell_type": "code",
   "execution_count": 171,
   "metadata": {},
   "outputs": [
    {
     "data": {
      "image/png": "[encoded data removed]",
      "text/plain": [
       "<matplotlib.figure.Figure at 0x10c0467b8>"
      ]
     },
     "metadata": {},
     "output_type": "display_data"
    }
   ],
   "source": [
    "# TODO\n",
    "ybar = np.mean(y0)\n",
    "syy = np.mean((y0-ybar)**2)\n",
    "Rsq = np.zeros(nneuron)\n",
    "for i in range(nneuron):\n",
    "    xbar = np.mean(X0[:,i])\n",
    "    sxx = np.mean((X0[:,i]-xbar)**2)\n",
    "    sxy = np.mean((X0[:,i]-xbar)*(y0-ybar))\n",
    "    if sxx==0: Rsq[i] = 0\n",
    "    else: Rsq[i] = sxy**2/sxx/syy\n",
    "plt.stem(Rsq)\n",
    "plt.grid()"
   ]
  },
  {
   "cell_type": "markdown",
   "metadata": {},
   "source": [
    "We see that many neurons have low correlation and can probably be discarded from the model.    \n",
    "\n",
    "Use the `np.argsort()` command to find the indices of the `d=100` neurons with the highest $R^2_k$ value.  Put the `d` indices into an array `Isel`.  Print the indices of the neurons with the 10 highest correlations."
   ]
  },
  {
   "cell_type": "code",
   "execution_count": 172,
   "metadata": {},
   "outputs": [
    {
     "name": "stdout",
     "output_type": "stream",
     "text": [
      "The neurons with the ten highest R^2 values =  [193  98 195 120  67 136 153 152  58 192]\n"
     ]
    }
   ],
   "source": [
    "d = 100  # Number of neurons to use\n",
    "\n",
    "# TODO\n",
    "sort = np.argsort(Rsq)\n",
    "Isel = sort[-d:]\n",
    "print(\"The neurons with the ten highest R^2 values = \", (np.argsort(Rsq)[-10:]))"
   ]
  },
  {
   "cell_type": "markdown",
   "metadata": {},
   "source": [
    "Fit a model using only the `d` neurons selected in the previous step and print both the test RSS per sample and the normalized test RSS."
   ]
  },
  {
   "cell_type": "code",
   "execution_count": 173,
   "metadata": {},
   "outputs": [
    {
     "name": "stdout",
     "output_type": "stream",
     "text": [
      "RSS per sample= [ 0.00533058  0.01197821  0.00783439 ...,  0.00326638  0.0003192\n",
      "  0.00062619]\n",
      "Normalized RSS=0.496102\n"
     ]
    }
   ],
   "source": [
    "# TODO\n",
    "regr.fit(Xtr[:,Isel],ytr)\n",
    "yts_pre = regr.predict(Xts[:,Isel])\n",
    "RSS_norm = np.mean((yts_pre-yts)**2/(np.std(yts)**2))\n",
    "RSS_per = (yts_pre-yts)**2\n",
    "print(\"RSS per sample=\", RSS_per)\n",
    "print(\"Normalized RSS={0:f}\".format(RSS_norm))"
   ]
  },
  {
   "cell_type": "markdown",
   "metadata": {},
   "source": [
    "Create a scatter plot of the predicted vs. actual hand motion on the test data.  On the same plot, plot the line where `yts_hat = yts`."
   ]
  },
  {
   "cell_type": "code",
   "execution_count": 174,
   "metadata": {},
   "outputs": [
    {
     "data": {
      "image/png": "[encoded data removed]",
      "text/plain": [
       "<matplotlib.figure.Figure at 0x10c063668>"
      ]
     },
     "metadata": {},
     "output_type": "display_data"
    }
   ],
   "source": [
    "# TODO\n",
    "plt.scatter(yts_pre,yts)\n",
    "plt.grid()"
   ]
  },
  {
   "cell_type": "markdown",
   "metadata": {},
   "source": [
    "## Using K-fold cross validation for the optimal number of neurons\n",
    "\n",
    "In the above, we fixed `d=100`.  We can use cross validation to try to determine the best number of neurons to use.  Try model orders with `d=10,20,...,190`.  For each value of `d`, use K-fold validation with 10 folds to estimate the test RSS.  For a data set this size, each fold will take a few seconds to compute, so it may be useful to print the progress."
   ]
  },
  {
   "cell_type": "code",
   "execution_count": 175,
   "metadata": {},
   "outputs": [
    {
     "name": "stdout",
     "output_type": "stream",
     "text": [
      "0.00185871010488\n",
      "0.00172065740811\n",
      "0.00169302889048\n",
      "0.0016045242006\n",
      "0.00157880819946\n",
      "0.00154669545885\n",
      "0.00155348537287\n",
      "0.00152389025006\n",
      "0.0015214702541\n",
      "0.00147782620259\n",
      "0.00146535456014\n",
      "0.00146398835532\n",
      "0.00146041764659\n",
      "0.00145738671401\n",
      "0.00145844031997\n",
      "0.00145714043471\n",
      "0.00145668220241\n",
      "0.00145436602458\n",
      "0.00144825813527\n",
      "0.00168414936349\n",
      "0.001601893967\n",
      "0.00158239211001\n",
      "0.00153702489499\n",
      "0.0014936880577\n",
      "0.00145964571735\n",
      "0.00144080227519\n",
      "0.0014385691921\n",
      "0.0014278476144\n",
      "0.00141057566697\n",
      "0.00141039539467\n",
      "0.00140700425456\n",
      "0.00140992613124\n",
      "0.00141092273648\n",
      "0.00141039579468\n",
      "0.00140919362012\n",
      "0.00141153549376\n",
      "0.00140967321689\n",
      "0.0014071019498\n",
      "0.00196750190075\n",
      "0.00188272510919\n",
      "0.00185725677759\n",
      "0.00180140769187\n",
      "0.00175830721889\n",
      "0.00168850248787\n",
      "0.00166996713578\n",
      "0.0016580433791\n",
      "0.00165628790793\n",
      "0.0016456302401\n",
      "0.00164456648088\n",
      "0.00164386455341\n",
      "0.00163913771112\n",
      "0.00163447298708\n",
      "0.00163642160695\n",
      "0.0016330197527\n",
      "0.00163204472931\n",
      "0.00163252156652\n",
      "0.00163253018804\n",
      "0.00186791291675\n",
      "0.0017361823126\n",
      "0.00171729818761\n",
      "0.00168562383797\n",
      "0.00163789712564\n",
      "0.00157221729819\n",
      "0.0015416009324\n",
      "0.00154159470961\n",
      "0.00152116376666\n",
      "0.00149610403366\n",
      "0.0014902058475\n",
      "0.00149045213203\n",
      "0.0014849239128\n",
      "0.00148457637528\n",
      "0.0014864636732\n",
      "0.00148737128131\n",
      "0.0014880175505\n",
      "0.0014889185674\n",
      "0.00148883080403\n",
      "0.00193011528609\n",
      "0.0017660229031\n",
      "0.0017592923869\n",
      "0.00168457679172\n",
      "0.00162218665952\n",
      "0.00158000865192\n",
      "0.00156936248389\n",
      "0.00154137722671\n",
      "0.00153060215228\n",
      "0.0015017629696\n",
      "0.00149396285751\n",
      "0.00149284308068\n",
      "0.00148203253124\n",
      "0.00147839987667\n",
      "0.00147984237886\n",
      "0.00147751968869\n",
      "0.00148246718246\n",
      "0.00148171673557\n",
      "0.00148051512785\n",
      "0.00175612700668\n",
      "0.0016248564108\n",
      "0.00160297968488\n",
      "0.00152427871855\n",
      "0.00150782960636\n",
      "0.0014565854217\n",
      "0.00144234477825\n",
      "0.00143315551768\n",
      "0.00139904478707\n",
      "0.00139775695495\n",
      "0.00139358264858\n",
      "0.00139056863506\n",
      "0.0013926361928\n",
      "0.00139204711493\n",
      "0.00139207893456\n",
      "0.00139059778228\n",
      "0.00139009500909\n",
      "0.00139132261852\n",
      "0.00138841528484\n",
      "0.00196791145578\n",
      "0.00178752343928\n",
      "0.00179064274944\n",
      "0.00171993362752\n",
      "0.00168307993973\n",
      "0.00162443201826\n",
      "0.00161444069489\n",
      "0.0015872014589\n",
      "0.00158071792182\n",
      "0.00155663681154\n",
      "0.00155509646331\n",
      "0.00155427408921\n",
      "0.00154422926624\n",
      "0.00153771681905\n",
      "0.00153858115672\n",
      "0.00153835589219\n",
      "0.0015372952203\n",
      "0.00153579916707\n",
      "0.00153400973198\n",
      "0.00188574203471\n",
      "0.0017551419474\n",
      "0.00174634178819\n",
      "0.00164361893124\n",
      "0.00162200283383\n",
      "0.00154275369332\n",
      "0.00151727877763\n",
      "0.00150922494134\n",
      "0.0015069433463\n",
      "0.00149829682576\n",
      "0.00149452984732\n",
      "0.00149993113631\n",
      "0.00149899825211\n",
      "0.00150238049595\n",
      "0.00151191255355\n",
      "0.00151168601208\n",
      "0.00151326220065\n",
      "0.00152098759833\n",
      "0.00151540632443\n",
      "0.00175626561916\n",
      "0.00166506954364\n",
      "0.00165823796381\n",
      "0.00160405797431\n",
      "0.00155848272603\n",
      "0.00154665904105\n",
      "0.00152876253206\n",
      "0.00150578668025\n",
      "0.00149809315655\n",
      "0.00149251575475\n",
      "0.00147274572823\n",
      "0.00147218717949\n",
      "0.00146377107901\n",
      "0.00145770925783\n",
      "0.00145688418472\n",
      "0.00145611961272\n",
      "0.00145936747937\n",
      "0.00145778211061\n",
      "0.00145692954405\n",
      "0.00199306655467\n",
      "0.00182966291305\n",
      "0.00180759714878\n",
      "0.00174282397661\n",
      "0.00168157269801\n",
      "0.00163666732476\n",
      "0.00162714607091\n",
      "0.00161131056525\n",
      "0.00158831984926\n",
      "0.00154454472943\n",
      "0.00154360699737\n",
      "0.00154149628937\n",
      "0.00152949433852\n",
      "0.00152906826493\n",
      "0.00152939639747\n",
      "0.0015288238195\n",
      "0.0015304741097\n",
      "0.00153290941326\n",
      "0.00153191767049\n"
     ]
    }
   ],
   "source": [
    "import  sklearn.model_selection \n",
    "\n",
    "# Create a k-fold object\n",
    "nfold = 10\n",
    "kf = sklearn.model_selection.KFold(n_splits=nfold,shuffle=True)\n",
    "\n",
    "# Model orders to be tested\n",
    "dtest = np.arange(10,200,10)\n",
    "nd = len(dtest)\n",
    "\n",
    "# TODO.  \n",
    "RSSts = np.zeros((nd,nfold))\n",
    "for isplit, Ind in enumerate(kf.split(X0)):\n",
    "    Itr, Its = Ind\n",
    "    Xtrk = X0[Itr]\n",
    "    ytrk = y0[Itr]\n",
    "    Xtsk = X0[Its]\n",
    "    ytsk = y0[Its]\n",
    "    \n",
    "    for it, d in enumerate(dtest):\n",
    "        iIsel = np.argsort(-Rsq)[:d]\n",
    "        Xtrkd = np.array(Xtrk[:, 0])\n",
    "        Xtskd = np.array(Xtsk[:, 0])\n",
    "        for k in enumerate(iIsel):\n",
    "            Xtrkd = np.column_stack((Xtrkd, Xtrk[:,k[1]]))\n",
    "            Xtskd = np.column_stack((Xtskd, Xtsk[:,k[1]]))\n",
    "        \n",
    "        Xtrkd = Xtrkd[:, 1:]\n",
    "        Xtskd = Xtskd[:, 1:]\n",
    "    \n",
    "        regr = sklearn.linear_model.LinearRegression()\n",
    "        regr.fit(Xtrkd, ytrk)\n",
    "        ytsk_hat = regr.predict(Xtskd)\n",
    "        RSSts[it, isplit] = np.mean((ytsk_hat - ytsk)**2)\n",
    "        print(RSSts[it,isplit])"
   ]
  },
  {
   "cell_type": "markdown",
   "metadata": {},
   "source": [
    "Compute the RSS test mean and standard error and plot them as a function of the model order `d` using the `plt.errorbar()` method. "
   ]
  },
  {
   "cell_type": "code",
   "execution_count": 176,
   "metadata": {},
   "outputs": [
    {
     "data": {
      "image/png": "[encoded data removed]",
      "text/plain": [
       "<matplotlib.figure.Figure at 0x10d251ba8>"
      ]
     },
     "metadata": {},
     "output_type": "display_data"
    }
   ],
   "source": [
    "# TODO\n",
    "RSS_mean = np.mean(RSSts,axis=1)\n",
    "RSS_std = np.std(RSSts,axis=1)/np.sqrt(nfold-1)\n",
    "plt.errorbar(dtest, RSS_mean, yerr=RSS_std, fmt='-')\n",
    "plt.ylim(0.0014,0.0020)\n",
    "plt.xlabel('Model order')\n",
    "plt.ylabel('Test RSS')\n",
    "plt.grid()"
   ]
  },
  {
   "cell_type": "markdown",
   "metadata": {},
   "source": [
    "Find the optimal order using the one standard error rule. Print the optimal value of `d` and the mean test RSS per sample at the optimal `d`.  "
   ]
  },
  {
   "cell_type": "code",
   "execution_count": 177,
   "metadata": {},
   "outputs": [
    {
     "name": "stdout",
     "output_type": "stream",
     "text": [
      "The estimated model order is 100\n",
      "The mean test RSS per sample at the optimal d is 0.00150216501894\n"
     ]
    }
   ],
   "source": [
    "# TODO\n",
    "imin = np.argmin(RSS_mean)\n",
    "RSS_tgt = RSS_mean[imin] + RSS_std[imin]\n",
    "I = np.where(RSS_mean <= RSS_tgt)[0]\n",
    "iopt = I[0]\n",
    "dopt = dtest[iopt]\n",
    "print(\"The estimated model order is %d\" %dopt)\n",
    "print(\"The mean test RSS per sample at the optimal d is\", RSS_mean[iopt])"
   ]
  },
  {
   "cell_type": "markdown",
   "metadata": {},
   "source": [
    "## Using LASSO regression\n",
    "\n",
    "Instead of using the above heuristic to select the variables, we can use LASSO regression.  \n",
    "\n",
    "First use the `preprocessing.scale` method to standardize the data matrix `X0`.  Store the standardized values in `Xs`.  You do not need to standardize the response.  For this data, the `scale` routine may throw a warning that you are converting data types.  That is fine."
   ]
  },
  {
   "cell_type": "code",
   "execution_count": 178,
   "metadata": {},
   "outputs": [
    {
     "name": "stderr",
     "output_type": "stream",
     "text": [
      "/Applications/anaconda/lib/python3.6/site-packages/sklearn/utils/validation.py:429: DataConversionWarning: Data with input dtype uint8 was converted to float64 by the scale function.\n",
      "  warnings.warn(msg, _DataConversionWarning)\n"
     ]
    }
   ],
   "source": [
    "from sklearn import preprocessing\n",
    "\n",
    "# TODO\n",
    "Xs = preprocessing.scale(X0)"
   ]
  },
  {
   "cell_type": "markdown",
   "metadata": {},
   "source": [
    "Now, use the LASSO method to fit a model.  Use cross validation to select the regularization level `alpha`.  Use `alpha` values logarithmically spaced from `1e-5` to `0.1`, and use 10 fold cross validation.  "
   ]
  },
  {
   "cell_type": "code",
   "execution_count": 179,
   "metadata": {},
   "outputs": [],
   "source": [
    "# TODO\n",
    "model = sklearn.linear_model.Lasso(warm_start=True)\n",
    "\n",
    "nalpha = 10\n",
    "alphas = np.logspace(-5,-1,nalpha)\n",
    "\n",
    "mse = np.zeros((nalpha,nfold))\n",
    "for ifold, ind in enumerate(kf.split(Xs)):\n",
    "    \n",
    "    Itr, Its = ind\n",
    "    X_tr = Xs[Itr,:]\n",
    "    y_tr = y0[Itr]\n",
    "    X_ts = Xs[Its,:]\n",
    "    y_ts = y0[Its]\n",
    "    \n",
    "    for ia, a in enumerate(alphas):\n",
    "        \n",
    "        model.alpha = a\n",
    "        model.fit(X_tr,y_tr)\n",
    "        \n",
    "        y_ts_pred = model.predict(X_ts)\n",
    "        mse[ia,ifold] = np.mean((y_ts_pred-y_ts)**2)"
   ]
  },
  {
   "cell_type": "markdown",
   "metadata": {},
   "source": [
    "Plot the mean test RSS and test RSS standard error with the `plt.errorbar` plot."
   ]
  },
  {
   "cell_type": "code",
   "execution_count": 180,
   "metadata": {},
   "outputs": [
    {
     "data": {
      "image/png": "[encoded data removed]",
      "text/plain": [
       "<matplotlib.figure.Figure at 0x10d251be0>"
      ]
     },
     "metadata": {},
     "output_type": "display_data"
    }
   ],
   "source": [
    "# TODO\n",
    "mse_mean = np.mean(mse,axis=1)\n",
    "mse_std = np.std(mse,axis=1)/np.sqrt(nfold-1)\n",
    "plt.errorbar(alphas,mse_mean,yerr=mse_std,fmt='-')\n",
    "plt.grid()"
   ]
  },
  {
   "cell_type": "markdown",
   "metadata": {},
   "source": [
    "Find the optimal `alpha` and mean test RSS using the one standard error rule."
   ]
  },
  {
   "cell_type": "code",
   "execution_count": 181,
   "metadata": {},
   "outputs": [
    {
     "name": "stdout",
     "output_type": "stream",
     "text": [
      "Optimal alpha = 0.000599\n"
     ]
    }
   ],
   "source": [
    "# TODO\n",
    "imin = np.argmin(mse_mean)\n",
    "mse_tgt = mse_mean[imin] + mse_std[imin]\n",
    "alpha_min = alphas[imin]\n",
    "\n",
    "I = np.where(mse_mean < mse_tgt)[0]\n",
    "iopt = I[-1]\n",
    "alpha_opt = alphas[iopt]\n",
    "print(\"Optimal alpha = %f\" % alpha_opt)"
   ]
  },
  {
   "cell_type": "markdown",
   "metadata": {},
   "source": [
    "Using the optimal alpha, recompute the predicted response variable on the whole data.  Plot the predicted vs. actual values."
   ]
  },
  {
   "cell_type": "code",
   "execution_count": 182,
   "metadata": {},
   "outputs": [
    {
     "data": {
      "image/png": "[encoded data removed]",
      "text/plain": [
       "<matplotlib.figure.Figure at 0x10d251400>"
      ]
     },
     "metadata": {},
     "output_type": "display_data"
    }
   ],
   "source": [
    "# TODO\n",
    "model.alpha = alpha_opt\n",
    "model.fit(Xs,y0)\n",
    "yts_opt_pre = model.predict(X0)\n",
    "plt.scatter(yts_opt_pre,y0)\n",
    "plt.grid()"
   ]
  },
  {
   "cell_type": "markdown",
   "metadata": {},
   "source": [
    "## More Fun\n",
    "\n",
    "You can play around with this and many other neural data sets.  Two things that one can do to further improve the quality of fit are:\n",
    "* Use more time lags in the data.  Instead of predicting the hand motion from the spikes in the previous time, use the spikes in the last few delays.\n",
    "* Add a nonlinearity.  You should see that the predicted hand motion differs from the actual for high values of the actual.  You can improve the fit by adding a nonlinearity on the output.  A polynomial fit would work well here.\n",
    "\n",
    "You do not need to do these, but you can try them if you like."
   ]
  },
  {
   "cell_type": "code",
   "execution_count": null,
   "metadata": {
    "collapsed": true
   },
   "outputs": [],
   "source": []
  }
 ],
 "metadata": {
  "anaconda-cloud": {},
  "kernelspec": {
   "display_name": "Python 3",
   "language": "python",
   "name": "python3"
  },
  "language_info": {
   "codemirror_mode": {
    "name": "ipython",
    "version": 3
   },
   "file_extension": ".py",
   "mimetype": "text/x-python",
   "name": "python",
   "nbconvert_exporter": "python",
   "pygments_lexer": "ipython3",
   "version": "3.6.1"
  }
 },
 "nbformat": 4,
 "nbformat_minor": 1
}
